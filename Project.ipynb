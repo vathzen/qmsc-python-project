{
 "cells": [
  {
   "cell_type": "markdown",
   "metadata": {},
   "source": [
    "## Special Projects and Quantum Industry \n",
    "### Feedback-stabilization of an Arbitrary Pure State of a Two-Level Atom\n",
    "Link to paper : https://arxiv.org/pdf/quant-ph/0008003.pdf \\\n",
    "Implementation by Srivathsan S"
   ]
  },
  {
   "cell_type": "code",
   "execution_count": 2,
   "metadata": {},
   "outputs": [],
   "source": [
    "#Cell containing all imports\n",
    "\n",
    "import numpy as np\n",
    "import matplotlib.pyplot as plt"
   ]
  },
  {
   "cell_type": "markdown",
   "metadata": {},
   "source": [
    "##### Figure 2\n",
    "The stationary solution of the master equation is given by:\n",
    "$$\n",
    "x_{ss} = \\frac{-4\\alpha\\gamma}{\\gamma^2 + 8\\alpha^2} \\hspace{10 bp} , \\hspace{10 bp} z_{ss} = \\frac{-\\gamma^2}{\\gamma^2 + 8\\alpha^2} \\hspace{10 bp} , \\hspace{10 bp} y_{ss} = 0\n",
    "$$"
   ]
  },
  {
   "cell_type": "markdown",
   "metadata": {},
   "source": []
  }
 ],
 "metadata": {
  "kernelspec": {
   "display_name": "Project-sMrtlC8m",
   "language": "python",
   "name": "python3"
  },
  "language_info": {
   "codemirror_mode": {
    "name": "ipython",
    "version": 3
   },
   "file_extension": ".py",
   "mimetype": "text/x-python",
   "name": "python",
   "nbconvert_exporter": "python",
   "pygments_lexer": "ipython3",
   "version": "3.10.12"
  }
 },
 "nbformat": 4,
 "nbformat_minor": 2
}
